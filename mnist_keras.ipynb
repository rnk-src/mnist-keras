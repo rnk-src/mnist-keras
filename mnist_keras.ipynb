{
 "cells": [
  {
   "cell_type": "markdown",
   "id": "cd072bde-5735-49b1-ba15-f0653644f116",
   "metadata": {},
   "source": [
    "# Training Neural Networks on the MNIST Data Set using Keras\n",
    "\n",
    "## Introduction\n",
    "\n",
    "    In this program, we hope to be able to recognize digits within 28x28 images through the utilization of neural networks, which will be created through the aid of Keras, a popular machine learning API developed by Google in order to train neural networks. The dataset we will be using is the Modified National Institute of Standards and Technology database (MNIST), a large and popular dataset containing handwritten digits in 28 by 28 images. We will focus on using MNIST due to its ease of access and use, and provides a basic, fundamental understanding when first learning to program neural networks. Here is a sample image of the training data used:\n",
    "    \n",
    "<img src=\"mnist_sample.png\" alt=\"Alternative text\" />"
   ]
  },
  {
   "cell_type": "markdown",
   "id": "e101f559-1e92-4d99-acba-e3a4c5080725",
   "metadata": {},
   "source": [
    "## Getting the dataset\n",
    "\n",
    "    We must now get the dataset. Fortunately, keras provides the MNIST dataset to us, and all we need to do is separate the data into training data, in order to train the neural network, and test data, which will help us see if our model is accurate, and most importantly, if it is overfitting."
   ]
  },
  {
   "cell_type": "code",
   "execution_count": 2,
   "id": "bbd6d678-bf0a-4984-ad77-7558aa7b4e69",
   "metadata": {},
   "outputs": [],
   "source": [
    "import tensorflow as tf\n",
    "from tensorflow import keras\n",
    "\n",
    "data = tf.keras.datasets.mnist\n",
    "(input_train, output_train), (input_test, output_test) = data.load_data()"
   ]
  },
  {
   "cell_type": "markdown",
   "id": "22aa3dda-459a-451a-82e0-821f2a14827d",
   "metadata": {},
   "source": [
    "In the dataset, we can see that we are provided 60000 total samples for training and 10000 samples for testing. We will now create the neural network that will take in an image as an input and return the digit it is meant to be. As we have an input of 28x28 images, we will have the input take a 28 by 28 image (784 pixels) and have 10 nodes in our output layer to represent each digit between 0 and 9."
   ]
  },
  {
   "cell_type": "code",
   "execution_count": 3,
   "id": "123fbe0d-72ec-4d65-913d-20a609e0796e",
   "metadata": {},
   "outputs": [],
   "source": [
    "model = keras.Sequential([\n",
    "    tf.keras.layers.Flatten(input_shape=(28, 28)),\n",
    "    tf.keras.layers.Dense(392, activation=\"relu\"),\n",
    "    tf.keras.layers.Dense(196, activation=\"relu\"),\n",
    "    tf.keras.layers.Dense(98, activation=\"relu\"),\n",
    "    tf.keras.layers.Dense(49, activation=\"relu\"),\n",
    "    tf.keras.layers.Dropout(0.2),\n",
    "    tf.keras.layers.Dense(10, activation=\"softmax\")\n",
    "])"
   ]
  },
  {
   "cell_type": "markdown",
   "id": "9a39d49a-fafa-4418-bb88-57b26d4f62f7",
   "metadata": {},
   "source": [
    "We first add an input layer that flattens the 28 by 28 matrix passed in into a single row matrix. It goes through each layer with a decreasing amount of neurons, dividing by 2 each time until we get to 49, where we then lead it to an output layer with 10 neurons representing each digit. We can now compile our model, train it, and test it. We train it with the Adam optimizer, a popular and efficient optimizer, using Sparse Categorical Crossentropy due to our use of Multiclass Classification, and we output the metric \"accuracy\"."
   ]
  },
  {
   "cell_type": "code",
   "execution_count": 4,
   "id": "65466873-9a86-4c48-b475-19416b916e64",
   "metadata": {},
   "outputs": [
    {
     "name": "stdout",
     "output_type": "stream",
     "text": [
      "Epoch 1/10\n",
      "   1/1875 [..............................] - ETA: 4:45 - loss: 80.3927 - accuracy: 0.1562"
     ]
    },
    {
     "name": "stderr",
     "output_type": "stream",
     "text": [
      "2023-03-25 15:55:29.106435: W tensorflow/core/platform/profile_utils/cpu_utils.cc:128] Failed to get CPU frequency: 0 Hz\n"
     ]
    },
    {
     "name": "stdout",
     "output_type": "stream",
     "text": [
      "1875/1875 [==============================] - 3s 2ms/step - loss: 0.8984 - accuracy: 0.8252\n",
      "Epoch 2/10\n",
      "1875/1875 [==============================] - 3s 2ms/step - loss: 0.3009 - accuracy: 0.9201\n",
      "Epoch 3/10\n",
      "1875/1875 [==============================] - 3s 2ms/step - loss: 0.2090 - accuracy: 0.9448\n",
      "Epoch 4/10\n",
      "1875/1875 [==============================] - 3s 2ms/step - loss: 0.1760 - accuracy: 0.9541\n",
      "Epoch 5/10\n",
      "1875/1875 [==============================] - 3s 2ms/step - loss: 0.1517 - accuracy: 0.9605\n",
      "Epoch 6/10\n",
      "1875/1875 [==============================] - 3s 2ms/step - loss: 0.1273 - accuracy: 0.9667\n",
      "Epoch 7/10\n",
      "1875/1875 [==============================] - 3s 2ms/step - loss: 0.1126 - accuracy: 0.9713\n",
      "Epoch 8/10\n",
      "1875/1875 [==============================] - 3s 2ms/step - loss: 0.1068 - accuracy: 0.9737\n",
      "Epoch 9/10\n",
      "1875/1875 [==============================] - 3s 2ms/step - loss: 0.0948 - accuracy: 0.9751\n",
      "Epoch 10/10\n",
      "1875/1875 [==============================] - 3s 2ms/step - loss: 0.0806 - accuracy: 0.9801\n",
      "313/313 [==============================] - 0s 641us/step - loss: 0.1620 - accuracy: 0.9727\n"
     ]
    },
    {
     "data": {
      "text/plain": [
       "[0.16202551126480103, 0.9726999998092651]"
      ]
     },
     "execution_count": 4,
     "metadata": {},
     "output_type": "execute_result"
    }
   ],
   "source": [
    "model.compile(\n",
    "    optimizer=\"adam\",\n",
    "    loss=\"sparse_categorical_crossentropy\",\n",
    "    metrics=[\"accuracy\"]\n",
    ")\n",
    "\n",
    "model.fit(input_train, output_train, epochs=10)\n",
    "model.evaluate(input_test, output_test)"
   ]
  }
 ],
 "metadata": {
  "kernelspec": {
   "display_name": "Python 3 (ipykernel)",
   "language": "python",
   "name": "python3"
  },
  "language_info": {
   "codemirror_mode": {
    "name": "ipython",
    "version": 3
   },
   "file_extension": ".py",
   "mimetype": "text/x-python",
   "name": "python",
   "nbconvert_exporter": "python",
   "pygments_lexer": "ipython3",
   "version": "3.10.8"
  }
 },
 "nbformat": 4,
 "nbformat_minor": 5
}
